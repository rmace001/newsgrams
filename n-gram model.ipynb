{
 "cells": [
  {
   "cell_type": "code",
   "execution_count": 14,
   "metadata": {},
   "outputs": [],
   "source": [
    "# imports\n",
    "from collections import Counter\n",
    "from itertools import islice\n",
    "import re\n",
    "import pandas as pd\n",
    "import string\n",
    "from nltk.tokenize import word_tokenize\n",
    "from nltk.stem.porter import PorterStemmer\n",
    "porter = PorterStemmer()\n",
    "# stemmed = [porter.stem(word) for word in tokens]\n",
    "# #########################\n",
    "# DATA CLEANING TECHNIQUES\n",
    "# #########################\n",
    "# split by sentance\n",
    "# remove puncuation\n",
    "# lowercase letters\n",
    "# remove/convert numbers\n",
    "# -------------------------\n",
    "\n",
    "# #########################\n",
    "# NLP TECHNIQUES\n",
    "# #########################\n",
    "# stemming\n",
    "# -------------------------"
   ]
  },
  {
   "cell_type": "code",
   "execution_count": 15,
   "metadata": {},
   "outputs": [],
   "source": [
    "stopwords = {\"I\", \"me\", \"my\", \"myself\", \"we\", \"our\", \"ours\", \"ourselves\", \"you\", \"your\", \"yours\", \"yourself\", \"yourselves\", \"he\", \"him\", \"his\", \"himself\", \"she\", \"her\", \"hers\", \"herself\", \"it\", \"its\", \"itself\", \"they\", \"them\", \"their\", \"theirs\", \"themselves\", \"what\", \"which\", \"who\", \"whom\", \"this\", \"that\", \"these\", \"those\", \"am\", \"is\", \"are\", \"was\", \"were\", \"be\", \"been\", \"being\", \"have\", \"has\", \"had\", \"having\", \"do\", \"does\", \"did\", \"doing\", \"a\", \"an\", \"the\", \"and\", \"but\", \"if\", \"or\", \"because\", \"as\", \"until\", \"while\", \"of\", \"at\", \"by\", \"for\", \"with\", \"about\", \"against\", \"between\", \"into\", \"through\", \"during\", \"before\", \"after\", \"above\", \"below\", \"to\", \"from\", \"up\", \"down\", \"in\", \"out\", \"on\", \"off\", \"over\", \"under\", \"again\", \"further\", \"then\", \"once\", \"here\", \"there\", \"when\", \"where\", \"why\", \"how\", \"all\", \"any\", \"both\", \"each\", \"few\", \"more\", \"most\", \"other\", \"some\", \"such\", \"no\", \"nor\", \"not\", \"only\", \"own\", \"same\", \"so\", \"than\", \"too\", \"very\", \"can\", \"will\", \"just\", \"don\", \"should\", \"now\"}\n",
    "sent1 = \"i am sam\"\n",
    "sent2 = \"sam i am\"\n",
    "sent3 = \"i do not like green eggs and ham\"\n",
    "sent4 = \"the quick person did not realize his speed and the quick person bumped \"\n",
    "\n",
    "\n",
    "# words = re.findall(\"\\w+\", sent4)\n",
    "# bigramCount = dict(Counter(zip(words, islice(words, 1, None))))\n",
    "\n",
    "# for i in bigramCount.keys():\n",
    "#     print(str(i) + \" count: %d\" % bigramCount[i])\n",
    "\n",
    "# load in the crawled data and perform some cleaning\n",
    "news = pd.read_csv(r\"C:\\Users\\Rogith\\Desktop\\Notebooks\\news2.csv\")\n",
    "news = news[:100]"
   ]
  },
  {
   "cell_type": "code",
   "execution_count": 16,
   "metadata": {},
   "outputs": [
    {
     "name": "stdout",
     "output_type": "stream",
     "text": [
      "#################################################\n"
     ]
    }
   ],
   "source": [
    "gibberish = ['Getty Images', '\\\\\\\\xc3', '\\\\\\\\x94', '\\\\\\\\x9c', '\\\\\\\\x9d', '\\\\\\\\x95', '\\\\\\\\xb3', '\\\\\\\\xe2', '\\\\\\\\x80', '\\\\\\\\x99', '\\\\\\\\xa9', '\\\\\\\\xf0', '\\\\\\\\x9f', '\\\\\\\\x91']\n",
    "for i in range(len(gibberish)):\n",
    "    for j in range(news.shape[0]):\n",
    "        output = news.iloc[j][4]\n",
    "        output = re.sub(gibberish[i], '', output)\n",
    "        output = re.sub('\\\\\\\\n', ' ', output)\n",
    "        output = re.sub('\\\\\\\\\\\\\\'', '\\'', output)\n",
    "        news.iloc[j][4] = output\n",
    "\n",
    "print(\"#################################################\")"
   ]
  },
  {
   "cell_type": "code",
   "execution_count": 29,
   "metadata": {},
   "outputs": [
    {
     "name": "stdout",
     "output_type": "stream",
     "text": [
      "['b', 'cnn', 'patient', 'took', 'common', 'heartburn', 'medicin', 'hospit', 'covid19', 'twice', 'like', 'surviv', 'infect', 'accord', 'paper', 'post', 'friday', 'prepubl', 'websit', 's', 'unclear', 'whether', 'patient', 'fare', 'better', 'famotidin', 'coincid', 'base', 've', 'learn', 'studi', 's', 'encourag', 'said', 'dr', 'joseph', 'conigliaro', 'coauthor', 'paper', 'physician', 'northwel', 'health', 'associ', 'actual', 'realli', 'compel', 'drug', 'famotidin', 'market', 'nearli', '40', 'year', 'activ', 'ingredi', 'popular', 'overthecount', 'heartburn', 'treatment', 'pepcid', 'among', '1536', 'patient', 'studi', 'take', 'famotidin', '332', '22', 'either', 'die', 'intub', 'put', 'ventil', 'among', '84', 'patient', 'take', 'famotidin', '8', '10', 'die', 'put', 'ventil', 'compar', 'rest', 'patient', 'receiv', 'famotidin', 'greater', '2fold', 'decreas', 'risk', 'either', 'die', 'intub', 'accord', 'statement', 'author', 'studi', 'columbia', 'univers', 'irv', 'medic', 'center', 'patient', 'take', 'famotidin', 'start', 'drug', 'within', '24', 'hour', 'admit', 'hospit', 'took', 'oral', 'intraven', 'vari', 'dosag', '15', 'alreadi', 'take', 'home', 'studi', 'nt', 'prove', 'drug', 'caus', 'lower', 'death', 'rate', 's', 'possibl', 's', 'coincid', 'clear', 'patient', 'receiv', 'famotidin', 'improv', 'outcom', 'author', 'wrote', 'statement', 'mere', 'associ', 'find', 'interpret', 'mean', 'famotidin', 'improv', 'outcom', 'patient', 'hospit', 'covid19', 'doctor', 'caution', 'start', 'famotidin', 'studi', 'publish', 'medrxivorg', 'preprint', 'server', 'found', 'yale', 'univers', 'medic', 'journal', 'bmj', 'cold', 'spring', 'harbor', 'laboratori', 'new', 'york', 'articl', 'server', 'review', 'author', 'scientif', 'peer', 'base', 'result', 'conigliaro', 'said', 'know', 'doctor', 'might', 'start', 'prescrib', 'famotidin', 'coronaviru', 'patient', 'result', 'clinic', 'trial', 'known', 'nt', 'recommend', 'i', 'think', 'doctor', 'wait', 'data', 'prospect', 'trial', 'said', 'ad', 's', 'evid', 'famotidin', 'prevent', 'infect', 's', 'concern', 'peopl', 'nt', 'covid19', 'start', 'take', 'i', 'would', 'realli', 'caution', 'take', 'famotidin', 'might', 'give', 'fals', 'sens', 'secur', 'said', 'clinic', 'trial', 'patient', 'randomli', 'assign', 'get', 'either', 'famotidin', 'placebo', 'studi', 'determin', 'drug', 'realli', 'work', 'covid19', 'northwel', 'columbia', 'clinic', 'trial', 'patient', 'receiv', 'intraven', 'famotidin', 'dosag', 'nine', 'time', 'higher', 'given', 'heartburn', 'other', 'receiv', 'placebo', 'drug', 'noth', 'conigliaro', 's', 'head', 'trial', 'said', 'preliminari', 'result', 'would', 'like', 'announc', 'month', 'said', '233', 'patient', 'enrol', 'studi', 'northwel', 'plan', 'announc', 'preliminari', 'result', 'enrol', '390', 'patient', 'howev', 'sinc', 'number', 'patient', 'coronaviru', 'new', 'york', 'declin', 'might', 'decid', 'announc', 'preliminari', 'result', 'fewer', 'patient', 'nt', 'know', 'benefit', 'bit', 'mysteri', 'heartburn', 'medicin', 'might', 'help', 'someon', 'viral', 'infect', 'month', 'ago', 'approach', 'idea', 'start', 'trial', 'i', 'realli', 'doubl', 'take', 'conigliaro', 'said', 'northwel', 'doctor', 'decid', 'studi', 'famotidin', 'two', 'reason', 'one', 'comput', 'model', 'studi', 'show', 'famotidin', 's', 'mechan', 'action', 'way', 'fight', 'heartburn', 'reflux', 'might', 'also', 'help', 'covid19', 'two', 'dr', 'michael', 'callahan', 'infecti', 'diseas', 'specialist', 'massachusett', 'gener', 'hospit', 'work', 'coronaviru', 'patient', 'china', 'observ', 'lower', 'incom', 'patient', 'heartburn', 'surviv', 'longer', 'wealthier', 'counterpart', 'also', 'heartburn', 'callahan', 'chines', 'doctor', 'look', 'closer', 'found', 'mani', 'peopl', 'lower', 'incom', 'take', 'famotidin', 'wherea', 'wealthier', 'patient', 'tend', 'take', 'differ', 'expens', 'drug', 'get', 'cnn', 'health', 's', 'weekli', 'newslett', 'sign', 'get', 'result', 'dr', 'sanjay', 'gupta', 'everi', 'tuesday', 'cnn', 'health', 'team', 'poor', 'peasant', 'realli', 'seem', 'well', 'famotidin', 'said', 'dr', 'kevin', 'tracey', 'presid', 'feinstein', 'institut', 'medic', 'research', 'northwel', 'health', 'said', 'lot', 'anecdot', 'pass', 'around', 'give', 'us', 'hope', 'observ', 'china', 'new', 'york', 'might', 'point', 'way', 'famotidin', 'treatment', 'covid19', 'research', 'emphas', 'clinic', 'trial', 'determin', 'sure', 'whether', 'drug', 'work', 'viru', 'nt', 'know', 'benefit', 'realli', 'nt', 'i', 'swear', 'nt', 'tracey', 'previous', 'told', 'cnn', 'peopl', 'hope', 'anyth', 'need', 'clinic', 'trial', 'ad', 'famotidin', 'work', 'would', 'easi', 'use', 'widespread', 'scale', 's', 'gener', 's', 'plenti', 's', 'inexpens', 'said']\n",
      "#################################################\n",
      "['b', 'cnn', 'presid', 'donald', 'trump', 'increasingli', 'engag', 'legal', 'battl', 'unfold', 'across', 'countri', 'issu', 'votebymail', 'urg', 'polit', 'advis', 'take', 'aggress', 'postur', 'counter', 'democrat', 'lawsuit', 'issu', 'trump', 'met', 'polit', 'aid', 'thursday', 'white', 'hous', 'legal', 'effort', 'sourc', 'familiar', 'meet', 'said', 'meet', 'came', 'republican', 'nation', 'committe', 'up', 'initi', 'spend', '10', 'million', '20', 'million', 'fight', 'legal', 'battl', 'across', 'countri', 'votebymail', 'sourc', 'said', 'trump', 'particularli', 'interest', 'combat', 'ballot', 'harvest', 'allow', 'parti', 'offici', 'outsid', 'organ', 'collect', 'sign', 'seal', 'mailin', 'ballot', 'practic', 'legal', 'state', 'pleas', 'effort', 'made', 'combat', 'democrat', 'legal', 'maneuv', 'rnc', 's', 'legal', 'effort', 'larg', 'defens', 'natur', 'dramat', 'ramp', 'respons', 'increas', 'lawsuit', 'democrat', 'seek', 'expand', 'mailin', 'vote', 'rule', 'across', 'countri', 'light', 'coronaviru', 'crisi', 'republican', 'involv', 'legal', 'battl', '13', 'state', 'across', 'countri', 'expert', 'say', 'evid', 'mailin', 'vote', 'benefit', 'one', 'parti', 'trump', 'claim', 'mailin', 'vote', 'result', 'massiv', 'fraud', 'expert', 'say', 'voter', 'fraud', 'involv', 'mailin', 'vote', 'still', 'rare', 'major', 'american', 'favor', 'chang', 'elect', 'law', 'allow', 'everyon', 'vote', 'mail', 'accord', 'april', 'nbcwall', 'street', 'journal', 'poll', 'republican', 'far', 'less', 'like', 'democrat', 'agre', 'read']\n",
      "#################################################\n",
      "['b', 'cnn', 'inflammatori', 'ill', 'recent', 'observ', 'dozen', 'new', 'york', 'children', 'one', 'state', 'health', 'offici', 'say', 'may', 'link', 'covid19', 'kill', 'teenag', 'two', 'children', '8', 'year', 'old', 'state', 'offici', 'said', 'saturday', 'state', 'tri', 'determin', 'whether', 'novel', 'coronaviru', 'inde', 'pose', 'threat', 'children', 'nt', 'previous', 'recogn', 'work', 'feder', 'offici', 'explain', 'state', 'hospit', 'look', 'gov', 'andrew', 'cuomo', 'said', 'labor', 'impress', 'young', 'peopl', 'affect', 'covid19', 're', 'sure', 'fact', 'anymor', 'cuomo', 'told', 'report', 'saturday', 'state', 'offici', 'warn', 'earlier', 'week', 'dozen', 'children', 'state', 'hospit', 'condit', 'doctor', 'describ', 'pediatr', 'multisystem', 'inflammatori', 'syndrom', 'could', 'link', 'covid19', 'children', 'fever', 'symptom', 'similar', 'toxic', 'shock', 'syndrom', 'kawasaki', 'diseas', 'state', 'said', 'kawasaki', 'diseas', 'caus', 'inflamm', 'wall', 'blood', 'vessel', 'includ', 'suppli', 'blood', 'heart', 'rare', 'case', 'lead', 'deadli', 'limit', 'blood', 'flow', 'state', 'said', 'mani', 'children', 'test', 'posit', 'covid19', 'covid19', 'antibodi', 'nt', 'necessarili', 'present', 'typic', 'symptom', 'coronaviru', 'diseas', 'respiratori', 'distress', 'cuomo', 'said', 'state', 'know', '73', 'children', 'syndrom', 'three', 'die', 'cuomo', 'said', 'offic', 'said', '5yearold', 'boy', 'die', 'thursday', 'new', 'york', 'citi', '7yearold', 'boy', 'westchest', 'counti', 'teenag', 'suffolk', 'counti', 'name', 'releas', 'research', 'still', 'nt', 'know', 'whether', 'coronaviru', 'caus', 'syndrom', 'investig', 'cuomo', 'said', 'still', 'lot', 'learn', 'viru', 'said', 'coronaviru', 'hot', 'spot', 'see', 'rare', 'good', 'news', 'nation', 'debat', 'reopen', 'glimmer', 'hope', 'coronaviru', 'hot', 'spot', 'unit', 'state', 'amid', 'frustrat', 'state', 'continu', 'reopen', 'new', 'york', 'number', 'new', 'daili', 'case', 'hospit', 'intub', 'declin', 'cuomo', 'said', 'saturday', 'number', 'appear', 'better', 'part', 'us', 'hawaii', 'friday', 'report', 'confirm', 'case', 'coronaviru', 'first', 'time', 'sinc', 'march', '13', 'meanwhil', 'friday', 'second', 'day', 'row', 'hardhit', 'new', 'orlean', 'louisiana', 'report', 'new', 'coronaviru', 'death', 'bright', 'spot', 'come', 'swath', 'countri', 'continu', 'disagre', 'move', 'forward', 'battl', 'deadli', 'viru', 'sunday', 'least', '47', 'state', 'eas', 'restrict', 'meant', 'slow', 'spread', 'viru', 'state', 'allow', 'combin', 'busi', 'servic', 'park', 'reopen', 'restart', 'often', 'caveat', 'space', 'sanit', 'south', 'dakota', 'state', 'offici', 'two', 'sioux', 'tribe', 'odd', 'checkpoint', 'tribe', 'set', 'state', 'us', 'highway', 'keep', 'viru', 'tribal', 'land', 'gov', 'kristi', 'noem', 'friday', 'gave', 'tribe', '48', 'hour', 'remov', 'checkpoint', 'risk', 'legal', 'action', 'least', 'five', 'state', 'california', 'nevada', 'north', 'dakota', 'maryland', 'rhode', 'island', 'eas', 'restrict', 'weekend', 'california', 'retail', 'allow', 'offer', 'curbsid', 'pickup', 'friday', 'lo', 'angel', 'saturday', 'reopen', 'trail', 'park', 'golf', 'cours', 'expert', 'say', 'reopen', 'could', 'lead', 'alarm', 'spike', 'number', 'infect', 'take', 'time', 'symptom', 'show', 'could', 'week', 'us', 'see', 'spike', 'nearli', '400', 'case', 'covid19', 'diagnos', 'among', 'inmat', 'employe', 'cook', 'counti', 'jail', 'jail', 'nation', 's', 'largestknown', 'sourc', 'coronaviru', 'infect', 'infect', 'white', 'hous', 'prison', 'state', 'continu', 'navig', 'reopen', 'process', 'white', 'hous', 'cope', 'least', 'two', 'case', 'viru', 'among', 'staff', 'member', 'one', 'presid', 'donald', 'trump', 's', 'person', 'valet', 'member', 'us', 'navi', 'test', 'posit', 'coronaviru', 'cnn', 'learn', 'thursday', 'valet', 'assist', 'presid', 'first', 'famili', 'respons', 'presid', 's', 'food', 'beverag', 'vice', 'presid', 'mike', 'penc', 's', 'press', 'secretari', 'kati', 'miller', 'test', 'posit', 'friday', 'viru', 'trump', 'confirm', 'miller', 'come', 'contact', 'trump', 'contact', 'penc', 'presid', 'said', 'presid', 'vice', 'presid', 'recent', 'test', 'neg', 'deputi', 'white', 'hous', 'press', 'secretari', 'hogan', 'gidley', 'said', 'head', 'food', 'drug', 'administr', 'meanwhil', 'selfquarantin', '14', 'day', 'come', 'contact', 'person', 'test', 'posit', 'viru', 'fda', 'spokesman', 'said', 'friday', 'fda', 'name', 'person', 'fda', 'chief', 'dr', 'stephen', 'hahn', 'came', 'contact', 'elsewher', 'feder', 'state', 'prison', 'thousand', 'inmat', 'test', 'posit', 'viru', 'facil', 'often', 'limit', 'abil', 'social', 'distanc', 'site', 'state', 's', 'biggest', 'outbreak', 'support', 'local', 'busi', 'sign', 'post', 'along', 'front', 'street', 'lahaina', 'hawaii', 'friday', 'arkansa', '1000', 'inmat', 'test', 'posit', '876', 'singl', 'correct', 'facil', 'accord', 'dr', 'nate', 'smith', 'director', 'arkansa', 'depart', 'health', 'ohio', '20', 'state', 's', 'infect', 'attribut', 'peopl', 'behind', 'bar', 'throughout', 'pandem', 's', 'hold', 'us', 'nurs', 'home', 'also', 'especi', 'vulner', 'larg', 'popul', 'close', 'quarter', 'well', 'viru', 's', 'sever', 'older', 'adult', 'led', 'larg', 'number', 'infect', 'temper', 'flare', 'mask', 'busi', 'restrict', 'temper', 'flare', 'part', 'countri', 'busi', 'closur', 'local', 'state', 'govern', 'guidelin', 'wear', 'mask', 'public', 'place', 'alabama', 'polic', 'say', 'woman', 'becam', 'disorderli', 'tuesday', 'walmart', 'birmingham', 'worker', 'ask', 'put', 'mask', 'enter', 'store', 'video', 'show', 'offduti', 'offic', 'lift', 'woman', 'drop', 'ground', 'tri', 'detain', 'polic', 'say', 's', 'charg', 'disorderli', 'conduct', 'count', 'michigan', 'famili', 'dollar', 'secur', 'guard', 'shot', 'dead', 'last', 'week', 'told', 'woman', 'wear', 'face', 'mask', 'offici', 'said', 'polic', 'also', 'arrest', 'man', 'allegedli', 'wipe', 'nose', 'sleev', 'dollar', 'tree', 'employe', 'ask', 'wear', 'mask', 'unmask', 'protest', 'michigan', 'tri', 'enter', 'state', 's', 'hous', 'repres', 'chamber', 'block', 'mask', 'michigan', 'state', 'polic', 'protest', 'flock', 'michigan', 'capitol', 'recent', 'day', 'demand', 'end', 'state', 'emerg', 'place', 'may', '28', 'gov', 'gretchen', 'whitmer', 'also', 'relax', 'restrict', 'busi', 'reopen', 'public', 'particip', 'outdoor', 'activ', 'like', 'golf', 'motor', 'boat', 'florida', 's', 'miamidad', 'counti', 'bu', 'driver', 'say', 'ask', 'cough', 'passeng', 'wear', 'mask', 'person', 'spat', 'fled', 'miami', 'beach', 'man', 'shout', 'fals', 'flag', 'fake', 'pandem', 'groceri', 'store', 'profanitylac', 'tirad', 'week', 'code', 'complianc', 'offic', 'told', 'need', 'mask', 'enter', 'citi', 'stillwat', 'oklahoma', 'revok', 'order', 'requir', 'resid', 'wear', 'face', 'cover', 'insid', 'build', 'worker', 'receiv', 'threat']\n",
      "#################################################\n",
      "['b', 'cnn', 's', 'two', 'month', 'sinc', 'ahmaud', 'arberi', 'shot', 'kill', 'south', 'georgia', 'neighborhood', 'recent', 'day', 'case', 'taken', 'new', 'urgenc', 'outrag', 'kill', 'grown', 'along', 'new', 'attent', 'dizzi', 'number', 'peopl', 'involv', 'case', 'complic', 'fact', 'file', 'land', 'desk', 'three', 'differ', 'prosecutor', 's', 'breakdown', 's', 'ahmaud', 'arberi', 'case', 'victim', 'ahmaud', 'arberi', '25', 'kill', 'jog', 'south', 'georgia', 'februari', '23', 'accord', 'author', 'arberi', '25', 'kill', 'februari', '23', 'run', 'neighborhood', 'outsid', 'brunswick', 'georgia', 'approxim', '40', 'mile', 'north', 'floridageorgia', 'border', 's', 'describ', 'knew', 'good', 'young', 'man', 'heart', 'alway', 'right', 'place', 'love', 'peopl', 'father', 'marcu', 'arberi', 'sr', 'said', 'cnn', 's', 'new', 'day', 'friday', 'morn', 'i', 'alway', 'proud', 'older', 'sister', 'jasmin', 'arberi', 'told', 'cnn', 'ad', 'brother', 'want', 'becom', 'electrician', 'easi', 'go', 'love', 'gener', 'humor', 'overal', 'show', 'day', 'brave', 'former', 'high', 'school', 'footbal', 'player', 'arberi', 'known', 'go', 'run', 'accord', 'peopl', 'knew', 'mother', 'wanda', 'cooper', 'told', 'cnn', 'week', 'arm', 'never', 'worri', 'jog', 'nt', 'bother', 'anyon', 'februari', '23', 'two', 'men', 'got', 'truck', 'pursu', 'long', 'three', 'gunshot', 'rang', 'arberi', 'dead', 'aliv', 'arberi', 'would', 'turn', '26', 'friday', 'may', '8', 'day', 'alleg', 'killer', 'arrest', 'suspect', 'gbi', 'arrest', 'gregori', 'mcmichael', '64', 'travi', 'mcmichael', '34', 'death', 'ahmaud', 'arberi', 'agenc', 'said', 'press', 'releas', 'accord', 'polic', 'report', 'elder', 'mcmichael', 'said', 'thought', 'arberi', 'look', 'like', 'suspect', 'seri', 'recent', 'breakin', 'gregori', 'mcmichael', 'grab', 'handgun', 'son', 'grab', 'shotgun', 'chase', 'arberi', 'gregori', 'mcmichael', 'told', 'polic', 'polic', 'report', 'say', 'caught', 'travi', 'exit', 'truck', 'shotgun', 'struggl', 'ensu', 'arberi', 'elder', 'mcmichael', 'told', 'polic', 'son', 'shot', 'arberi', 'latter', 'attack', '36second', 'video', 'appear', 'show', 'incid', 'begin', 'arberi', 'approach', 'stop', 'pickup', 'truck', 'gregori', 'mcmichael', 'bed', 'truck', 'travi', 'mcmichael', 'stand', 'near', 'driver', 's', 'side', 'door', 'arberi', 'approach', 'travi', 'struggl', 'shotgun', 'offcamera', 'sever', 'gunshot', 'heard', 'blood', 'appear', 'arberi', 's', 'white', 'tshirt', 'stumbl', 'fall', 'road', 'gregori', 'mcmichael', 'told', 'polic', 'roll', 'arberi', 'see', 'weapon', 'accord', 'polic', 'report', 'indic', 'one', 'found', 'almost', 'entir', 'polic', 'report', 'base', 'account', 'gregori', 'mcmichael', 'tie', 'local', 'law', 'enforc', 'former', 'polic', 'offic', 'former', 'investig', 'brunswick', 'judici', 'circuit', 'district', 'attorney', 's', 'offic', 'lieuten', 'glynn', 'counti', 'polic', 'told', 'cnn', 'string', 'breakin', 'report', 'area', 'week', 'lead', 'shoot', 'though', '9', 'mm', 'pistol', 'report', 'stolen', 'unlock', 'truck', 'outsid', 'mcmichael', 'home', 'januari', '1', 'cnn', 's', 'attempt', 'reach', 'gregori', 'travi', 'mcmichael', 'unsuccess', 'appear', 'court', 'friday', 's', 'unclear', 'whether', 'legal', 'represent', 'wit', 'william', 'roddi', 'bryan', 'film', 'incid', 'attorney', 'said', 'statement', 'friday', 'director', 'gbi', 'friday', 'call', 'footag', 'import', 'piec', 'evid', 'ask', 'whether', 'could', 'arrest', 'director', 'vic', 'reynold', 'told', 'report', 'investig', 'everybodi', 'involv', 'case', 'includ', 'individu', 'shot', 'video', 'accord', 'attorney', 'kevin', 'gough', 'bryan', 'disclos', 'exist', 'videotap', 'invit', 'respond', 'glynn', 'counti', 'polic', 'offic', 'sit', 'truck', 'watch', 'video', 'togeth', 'gough', 'went', 'say', 'bryan', 'threaten', 'famili', 'live', 'fear', 'despit', 'fact', 'mr', 'bryan', 'commit', 'crime', 'fulli', 'cooper', 'investig', 'shoot', 'accord', 'gough', 'bryan', 'unarm', 'time', 'shoot', 'prosecutor', 'tom', 'durden', 'current', 'prosecutor', 'case', 'durden', 'district', 'attorney', 'atlant', 'judici', 'circuit', 'georgia', 'took', 'two', 'other', 'recus', 'due', 'connect', 'suspect', 'week', 'durden', 'said', 'statement', 'plan', 'present', 'case', 'grand', 'juri', 'june', '12', 'coronaviru', 'restrict', 'lift', 'i', 'opinion', 'case', 'present', 'grand', 'juri', 'glynn', 'counti', 'consider', 'crimin', 'charg', 'involv', 'death', 'mr', 'arberi', 'durden', 's', 'statement', 'said', 'durden', 'request', 'investig', 'gbi', 'tuesday', 'night', 'per', 'gbi', 'within', '48', 'hour', 'mcmichael', 'arrest', 'previou', 'prosecutor', 'arberi', 'case', 'initi', 'land', 'desk', 'brunswick', 'judici', 'circuit', 'district', 'attorney', 'letter', 'state', 'attorney', 'gener', 's', 'offic', 'date', 'februari', '27', 'prosecutor', 'said', 'gregori', 'mcmichael', 'former', 'investig', 'offic', 'recus', 'case', 'went', 'georg', 'barnhil', 'district', 'attorney', 'waycross', 'judici', 'circuit', 'would', 'eventu', 'recus', 'well', 'write', 'letter', 'polic', 'believ', 'mcmichael', 'within', 'right', 'make', 'citizen', 's', 'arrest', 'arberi', 'offic', 'see', 'ground', 'arrest', 'barnhil', 's', 'letter', 'question', 'whether', 'arberi', 'caus', 'shotgun', 'go', 'struggl', 'travi', 'mcmichael', 'would', 'allow', 'use', 'deadli', 'forc', 'protect', 'wrote', 'barnhil', 'letter', 'said', 'recus', 'behest', 'arberi', 's', 'mother', 'claim', 'conflict', 'interest', 'son', 'investig', 'brunswick', 'judici', 'circuit', 'gregori', 'mcmichael', 'previous', 'work', 'barnhil', 'agre', 'step', 'said', 'saw', 'conflict', 'separ', 'letter', 'state', 'attorney', 'gener', 'barnhil', 'said', 'son', 'gregori', 'mcmichael', 'involv', 'previou', 'prosecut', 'arberi', 'work', 'brunswick', 'da', 'connect', 'barnhil', 'said', 'thought', 'best', 'recus', 'arberi', 'famili', 'attorney', 'one', 's', 'lee', 'merritt', 'help', 'bring', 'attent', 'kill', 'jordan', 'edward', 'black', 'teenag', 'shot', 'kill', 'polic', 'offic', 'suburban', 'dalla', 'repres', 'famili', 'botham', 'jean', 'young', 'man', 'kill', 'offduti', 'polic', 'offic', 'apart', 'benjamin', 'crump', 'repres', 'arberi', 's', 'father', 'crump', 'also', 'involv', 'jean', 'case', 'repres', 'famili', 'trayvon', 'martin', 'along', 'black', 'boy', 'men', 'kill', 'officerinvolv', 'shoot', 'challeng', 'author', 'handl', 'arberi', 'case', 'argument', 'made', 'defens', 'suspect', 'merritt', 'dismiss', 'claim', 'fatherson', 'duo', 'execut', 'citizen', 's', 'arrest', 'say', 'actual', 'observ', 'crime', 'immedi', 'knowledg', 'crime', 'statement', 'week', 'crump', 'said', 'outrag', 'took', 'two', 'month', 'suspect', 'arrest', 'arberi', 's', 'kill', 've', 'whether', 's', 'trayvon', 'martin', 'tamir', 'rice', 'case', 'unjustifi', 'unnecessari', 'death', 'crump', 'told', 'cnn', 'friday', 'even', 'kill', 'children', 'tri', 'assassin', 'charact', 'i', 'know', 's', 're', 'go', 'tri', 'ahmaud', 'arberi']\n",
      "#################################################\n",
      "['b', 'cnn', 'busi', 'despit', 'pledg', 'big', 'social', 'media', 'compani', 'remov', 'danger', 'coronaviru', 'misinform', 'fals', 'caus', 'fals', 'cure', 'silicon', 'valley', 'factcheck', 'around', 'world', 'struggl', 'stem', 'flow', 'fals', 'claim', 'pandem', 'week', 'viral', 'video', 'titl', 'plandem', 'clock', 'million', 'view', 'click', 'acrossand', 'youtub', 'compani', 'took', 'action', 'i', 've', 'seen', 'video', 'type', 'gain', 'kind', 'viral', 'traction', 'quickli', 'alan', 'duke', 'editor', 'chief', 'lead', 'stori', 'factcheck', 'group', 'work', 'facebook', 'told', 'cnn', 'thursday', 'thursday', 'afternoon', 'book', 'featur', 'subject', 'plandem', 'shot', 'number', 'one', 'thebestsel', 'list', 'remain', 'saturday', 'ask', 'amazon', 'spokesperson', 'told', 'cnn', 'book', 'violat', 'content', 'guidelin', 'expert', 'track', 'disinform', 'told', 'cnn', 'differ', 'group', 'push', 'conspiraci', 'theori', 'like', 'qanon', 'antivaccin', 'activist', 'found', 'common', 'ground', 'peddl', 'fals', 'mislead', 'claim', 'covid19', 'mani', 'unknown', 'covid19', 'novel', 'natur', 'speed', 'scale', 'spread', 'along', 'anxiou', 'public', 'understand', 'look', 'answer', 'creat', 'perfect', 'condit', 'conspiraci', 'theori', 'thrive', 'sinc', 'emerg', 'russia', 'ran', 'disinform', 'campaign', 'target', '2016', 'us', 'presidenti', 'elect', 've', 'obsess', 'polit', 'disinform', 'note', 'clair', 'wardl', 'director', 'first', 'draft', 'nonprofit', 'track', 'onlin', 'misinform', 'warn', 'medic', 'misinform', 'could', 'cost', 'live', 'instanc', 'discourag', 'peopl', 'get', 'coronaviru', 'vaccin', 'one', 'becom', 'avail', 'silicon', 'valley', 'develop', 'covid19', 'specif', 'polici', 'sinc', 'least', 'januari', 'facebook', 'ceo', 'mark', 'zuckerberg', 'told', 'cnn', 'last', 'month', 'someon', 's', 'spread', 'someth', 'put', 'peopl', 'immin', 'risk', 'physic', 'harm', 'take', 'video', 'went', 'viral', 'wednesday', 'view', 'least', '3', 'million', 'time', 'youtub', 'accord', 'data', 'social', 'media', 'analyt', 'platform', 'buzzsumo', 'facebook', 'post', 'link', 'video', 'like', 'share', 'comment', 'well', 'excess', '10', 'million', 'time', 'thursday', 'afternoon', 'thursday', 'facebook', 'spokesperson', 'andi', 'stone', 'said', 'compani', 'remov', 'video', 'base', 'one', 'danger', 'claim', 'made', 'suggest', 'wear', 'mask', 'make', 'sick', 'could', 'lead', 'immin', 'harm', 're', 'remov', 'video', 'stone', 'said', 'thursday', 'afternoon', 'earlier', 'youtub', 'spokesperson', 'told', 'cnn', 'video', 'remov', 'make', 'claim', 'cure', 'covid19', 'back', 'health', 'organ', 'despit', 'compani', 'pledg', 'remov', 'video', 'copi', 'still', 'circul', 'platform', 'thursday', 'even', 'new', 'version', 'video', 'upload', 'youtub', 'throughout', 'day', 'twitter', 'twtr', 'implement', 'blanket', 'ban', 'video', 'like', 'one', 'put', 'place', 'facebook', 'youtub', 'twitter', 'spokesperson', 'said', 'compani', 'platform', 's', 'technolog', 'allow', 'user', 'post', 'clip', 'long', 'full', 'video', 'spokesperson', 'said', 'peopl', 'upload', 'part', 'video', 'directli', 'twitter', 'compani', 'compani', 'would', 'evalu', 'clip', 'link', 'video', 'platform', 'remov', 'twitter', 'though', 'link', 'mark', 'unsaf', 'mean', 'user', 'see', 'warn', 'proceed', 'video', 'spokesperson', 'ad', 'wardl', 'said', 'peopl', 'cautiou', 'read', 'share', 'content', 'social', 'media', 'point', 'misinform', 'often', 'financi', 'ideolog', 'motiv', 'complic', 'work', 'factcheck', 'social', 'media', 'compani', 'govern', 'point', 'finger', 'play', 'blame', 'game', 'sometim', 'spread', 'object', 'falsehood', 'cnn', 'report', 'last', 'week', 'case', 'maatj', 'benassi', 'us', 'armi', 'reservist', 'mother', 'two', 'accus', 'conspiraci', 'theorist', 'start', 'pandem', 'claim', 'amplifi', 'media', 'control', 'rule', 'chines', 'communist', 'parti', 'tri', 'deflect', 'blame', 'role', 'crisi', 'march', 'state', 'depart', 'summon', 'china', 's', 'ambassador', 'washington', 'hour', 'promin', 'chines', 'offici', 'suggest', 'us', 'militari', 'may', 'respons', 'bring', 'coronaviru', 'wuhan']\n",
      "#################################################\n"
     ]
    }
   ],
   "source": [
    "collection = str.maketrans('', '', string.punctuation)\n",
    "dterms = dict()\n",
    "for j in range(news.shape[0]):    \n",
    "    tokens = word_tokenize(news.iloc[j][4])\n",
    "    tokens = [t.lower() for t in tokens]\n",
    "    depunc = [t.translate(collection) for t in tokens]\n",
    "    words = [w for w in depunc if not w  == '']\n",
    "    cleaner = [w for w in words if not w in stopwords]\n",
    "    stemmed = [porter.stem(word) for word in cleaner]\n",
    "    dterms[j] = stemmed\n",
    "    \n",
    "\n",
    "# [print(key, value) for key, value in dterms.items()]\n",
    "\n",
    "for i in range(5):\n",
    "    print(dterms[i])\n",
    "    print(\"#################################################\")\n"
   ]
  },
  {
   "cell_type": "code",
   "execution_count": null,
   "metadata": {},
   "outputs": [],
   "source": []
  }
 ],
 "metadata": {
  "kernelspec": {
   "display_name": "Python 3",
   "language": "python",
   "name": "python3"
  },
  "language_info": {
   "codemirror_mode": {
    "name": "ipython",
    "version": 3
   },
   "file_extension": ".py",
   "mimetype": "text/x-python",
   "name": "python",
   "nbconvert_exporter": "python",
   "pygments_lexer": "ipython3",
   "version": "3.7.1"
  }
 },
 "nbformat": 4,
 "nbformat_minor": 2
}
